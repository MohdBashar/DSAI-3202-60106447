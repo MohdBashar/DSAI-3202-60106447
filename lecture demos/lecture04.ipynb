{
 "cells": [
  {
   "cell_type": "code",
   "execution_count": 2,
   "metadata": {},
   "outputs": [
    {
     "name": "stdout",
     "output_type": "stream",
     "text": [
      "function_A-->                                              starting \n",
      "\n",
      "function_A-->                                              exiting \n",
      "\n",
      "Thread-91 (do_something_function)-->                                              starting \n",
      "\n",
      "Thread-91 (do_something_function)-->                                              exiting \n",
      "\n"
     ]
    }
   ],
   "source": [
    "import threading \n",
    "import time\n",
    "\n",
    "def do_something_function():\n",
    "    print(threading.current_thread().name+str('-->\\\n",
    "                                              starting \\n'))\n",
    "    print(threading.current_thread().name+str('-->\\\n",
    "                                              exiting \\n'))\n",
    "\n",
    "thread1 = threading.Thread(name = \"function_A\", target = do_something_function)\n",
    "thread2 = threading.Thread(target=do_something_function)\n",
    "\n",
    "thread1.start()\n",
    "thread2.start()\n",
    "thread1.join()\n",
    "thread2.join()\n"
   ]
  },
  {
   "cell_type": "code",
   "execution_count": 3,
   "metadata": {},
   "outputs": [
    {
     "name": "stdout",
     "output_type": "stream",
     "text": [
      "The amount that it is trying to update is 100!\n",
      "The amount that it is trying to update is 50!\n",
      "The updated balance is 150. \n"
     ]
    }
   ],
   "source": [
    "import threading\n",
    "lock  = threading.Lock() #creating a lock object for aquire and release while performinf critical functions.\n",
    "balance = 0\n",
    "\n",
    "\n",
    "def update_balance(amount):  #the target function\n",
    "    global balance \n",
    "\n",
    "    lock.acquire() #acquire lock before we enter the operations area\n",
    "    try:\n",
    "        print(f\"The amount that it is trying to update is {amount}!\")\n",
    "        temp_balance = balance\n",
    "        temp_balance += amount\n",
    "        balance = temp_balance\n",
    "    finally:\n",
    "        lock.release() \n",
    "\n",
    "\n",
    "t1 = threading.Thread(name = \"Update 100\", target = update_balance, args=(100,)) #here args takes in a tuple with (amount,)\n",
    "t2 = threading.Thread(name = \"Update 50\", target=update_balance, args= (50, ))\n",
    "\n",
    "t1.start()\n",
    "t2.start()\n",
    "\n",
    "t1.join()\n",
    "t2.join()\n",
    "\n",
    "\n",
    "print(f\"The updated balance is {balance}. \")\n"
   ]
  },
  {
   "cell_type": "code",
   "execution_count": 4,
   "metadata": {},
   "outputs": [
    {
     "name": "stdout",
     "output_type": "stream",
     "text": [
      "Reached the recursive base case: \n",
      "The updated counter is 5 !\n"
     ]
    }
   ],
   "source": [
    "import threading\n",
    "\n",
    "rlock = threading.RLock()\n",
    "\n",
    "counter = 0\n",
    "\n",
    "def increment_counter(depth):\n",
    "    global counter\n",
    "    if depth > 0:\n",
    "        rlock.acquire()\n",
    "        try:\n",
    "            counter += 1\n",
    "            increment_counter(depth - 1)\n",
    "        finally:\n",
    "            rlock.release()\n",
    "    else:\n",
    "        print(\"Reached the recursive base case: \")\n",
    "\n",
    "t = threading.Thread(target = increment_counter, args=((5,)))\n",
    "\n",
    "t.start()\n",
    "\n",
    "t.join()\n",
    "\n",
    "print(f\"The updated counter is {counter} !\")\n"
   ]
  },
  {
   "cell_type": "code",
   "execution_count": 5,
   "metadata": {},
   "outputs": [
    {
     "name": "stdout",
     "output_type": "stream",
     "text": [
      "Producer adding items to the queue\n",
      "Consumer got item: 0\n"
     ]
    }
   ],
   "source": [
    "import threading\n",
    "\n",
    "condition = threading.Condition()\n",
    "\n",
    "# Shared data\n",
    "queue = []\n",
    "\n",
    "# Producer thread function\n",
    "def producer():\n",
    "    with condition:\n",
    "        print(\"Producer adding items to the queue\")\n",
    "        queue.extend(range(5))  # Produce some items\n",
    "        condition.notify_all()  # Notify the consumers\n",
    "\n",
    "# Consumer thread function\n",
    "def consumer():\n",
    "    with condition:\n",
    "        while not queue:\n",
    "            condition.wait()  # Wait for items to be produced\n",
    "        item = queue.pop(0)  # Consume an item\n",
    "        print(f\"Consumer got item: {item}\")\n",
    "\n",
    "# Create and start producer and consumer threads\n",
    "producer_thread = threading.Thread(target=producer)\n",
    "consumer_thread = threading.Thread(target=consumer)\n",
    "\n",
    "producer_thread.start()\n",
    "consumer_thread.start()\n",
    "\n",
    "producer_thread.join()\n",
    "consumer_thread.join()\n"
   ]
  },
  {
   "cell_type": "code",
   "execution_count": null,
   "metadata": {},
   "outputs": [],
   "source": []
  }
 ],
 "metadata": {
  "kernelspec": {
   "display_name": "base",
   "language": "python",
   "name": "python3"
  },
  "language_info": {
   "codemirror_mode": {
    "name": "ipython",
    "version": 3
   },
   "file_extension": ".py",
   "mimetype": "text/x-python",
   "name": "python",
   "nbconvert_exporter": "python",
   "pygments_lexer": "ipython3",
   "version": "3.12.4"
  }
 },
 "nbformat": 4,
 "nbformat_minor": 2
}
